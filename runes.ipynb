{
 "cells": [
  {
   "cell_type": "code",
   "execution_count": 258,
   "metadata": {},
   "outputs": [],
   "source": [
    "from pulp import *\n",
    "import numpy as np\n",
    "\n",
    "RUNE_COUNT = 1000\n",
    "RUNE_PROPS = 10\n",
    "\n",
    "items = np.random.randint(1, 10, (RUNE_COUNT, RUNE_PROPS))"
   ]
  },
  {
   "cell_type": "code",
   "execution_count": 259,
   "metadata": {},
   "outputs": [
    {
     "data": {
      "text/plain": [
       "(1000,)"
      ]
     },
     "execution_count": 259,
     "metadata": {},
     "output_type": "execute_result"
    }
   ],
   "source": [
    "items[:, 0].shape"
   ]
  },
  {
   "cell_type": "code",
   "execution_count": 260,
   "metadata": {},
   "outputs": [
    {
     "ename": "TypeError",
     "evalue": "unsupported operand type(s) for ** or pow(): 'LpVariable' and 'int'",
     "output_type": "error",
     "traceback": [
      "\u001b[0;31m---------------------------------------------------------------------------\u001b[0m",
      "\u001b[0;31mTypeError\u001b[0m                                 Traceback (most recent call last)",
      "Cell \u001b[0;32mIn[260], line 6\u001b[0m\n\u001b[1;32m      1\u001b[0m model \u001b[38;5;241m=\u001b[39m LpProblem(sense\u001b[38;5;241m=\u001b[39mLpMaximize)\n\u001b[1;32m      2\u001b[0m runes \u001b[38;5;241m=\u001b[39m pulp\u001b[38;5;241m.\u001b[39mLpVariable\u001b[38;5;241m.\u001b[39mdicts(\n\u001b[1;32m      3\u001b[0m     \u001b[38;5;124m\"\u001b[39m\u001b[38;5;124mrune\u001b[39m\u001b[38;5;124m\"\u001b[39m, indices\u001b[38;5;241m=\u001b[39m\u001b[38;5;28mrange\u001b[39m(RUNE_COUNT), cat\u001b[38;5;241m=\u001b[39mLpContinuous, lowBound\u001b[38;5;241m=\u001b[39m\u001b[38;5;241m0.0\u001b[39m, upBound\u001b[38;5;241m=\u001b[39m\u001b[38;5;241m1.0\u001b[39m\n\u001b[1;32m      4\u001b[0m )\u001b[38;5;241m.\u001b[39mvalues()\n\u001b[0;32m----> 6\u001b[0m model \u001b[38;5;241m+\u001b[39m\u001b[38;5;241m=\u001b[39m \u001b[38;5;28msum\u001b[39m(\u001b[38;5;28;43msum\u001b[39;49m\u001b[43m(\u001b[49m\u001b[43mitem\u001b[49m\u001b[43m \u001b[49m\u001b[38;5;241;43m*\u001b[39;49m\u001b[43m \u001b[49m\u001b[43mrune\u001b[49m\u001b[38;5;241;43m*\u001b[39;49m\u001b[38;5;241;43m*\u001b[39;49m\u001b[38;5;241;43m2\u001b[39;49m\u001b[43m \u001b[49m\u001b[38;5;28;43;01mfor\u001b[39;49;00m\u001b[43m \u001b[49m\u001b[43mitem\u001b[49m\u001b[43m,\u001b[49m\u001b[43m \u001b[49m\u001b[43mrune\u001b[49m\u001b[43m \u001b[49m\u001b[38;5;129;43;01min\u001b[39;49;00m\u001b[43m \u001b[49m\u001b[38;5;28;43mzip\u001b[39;49m\u001b[43m(\u001b[49m\u001b[43mitems\u001b[49m\u001b[43m,\u001b[49m\u001b[43m \u001b[49m\u001b[43mrunes\u001b[49m\u001b[43m)\u001b[49m\u001b[43m)\u001b[49m)\n\u001b[1;32m      8\u001b[0m \u001b[38;5;66;03m# model += sum(stat * rune for stat, rune in zip(items[:, 0], runes)) >= 50\u001b[39;00m\n\u001b[1;32m      9\u001b[0m \u001b[38;5;66;03m# model += sum(stat * rune for stat, rune in zip(items[:, 1], runes)) >= 50\u001b[39;00m\n\u001b[1;32m     11\u001b[0m model \u001b[38;5;241m+\u001b[39m\u001b[38;5;241m=\u001b[39m \u001b[38;5;28msum\u001b[39m(runes) \u001b[38;5;241m<\u001b[39m\u001b[38;5;241m=\u001b[39m \u001b[38;5;241m6\u001b[39m\n",
      "Cell \u001b[0;32mIn[260], line 6\u001b[0m, in \u001b[0;36m<genexpr>\u001b[0;34m(.0)\u001b[0m\n\u001b[1;32m      1\u001b[0m model \u001b[38;5;241m=\u001b[39m LpProblem(sense\u001b[38;5;241m=\u001b[39mLpMaximize)\n\u001b[1;32m      2\u001b[0m runes \u001b[38;5;241m=\u001b[39m pulp\u001b[38;5;241m.\u001b[39mLpVariable\u001b[38;5;241m.\u001b[39mdicts(\n\u001b[1;32m      3\u001b[0m     \u001b[38;5;124m\"\u001b[39m\u001b[38;5;124mrune\u001b[39m\u001b[38;5;124m\"\u001b[39m, indices\u001b[38;5;241m=\u001b[39m\u001b[38;5;28mrange\u001b[39m(RUNE_COUNT), cat\u001b[38;5;241m=\u001b[39mLpContinuous, lowBound\u001b[38;5;241m=\u001b[39m\u001b[38;5;241m0.0\u001b[39m, upBound\u001b[38;5;241m=\u001b[39m\u001b[38;5;241m1.0\u001b[39m\n\u001b[1;32m      4\u001b[0m )\u001b[38;5;241m.\u001b[39mvalues()\n\u001b[0;32m----> 6\u001b[0m model \u001b[38;5;241m+\u001b[39m\u001b[38;5;241m=\u001b[39m \u001b[38;5;28msum\u001b[39m(\u001b[38;5;28msum\u001b[39m(item \u001b[38;5;241m*\u001b[39m \u001b[43mrune\u001b[49m\u001b[38;5;241;43m*\u001b[39;49m\u001b[38;5;241;43m*\u001b[39;49m\u001b[38;5;241;43m2\u001b[39;49m \u001b[38;5;28;01mfor\u001b[39;00m item, rune \u001b[38;5;129;01min\u001b[39;00m \u001b[38;5;28mzip\u001b[39m(items, runes)))\n\u001b[1;32m      8\u001b[0m \u001b[38;5;66;03m# model += sum(stat * rune for stat, rune in zip(items[:, 0], runes)) >= 50\u001b[39;00m\n\u001b[1;32m      9\u001b[0m \u001b[38;5;66;03m# model += sum(stat * rune for stat, rune in zip(items[:, 1], runes)) >= 50\u001b[39;00m\n\u001b[1;32m     11\u001b[0m model \u001b[38;5;241m+\u001b[39m\u001b[38;5;241m=\u001b[39m \u001b[38;5;28msum\u001b[39m(runes) \u001b[38;5;241m<\u001b[39m\u001b[38;5;241m=\u001b[39m \u001b[38;5;241m6\u001b[39m\n",
      "\u001b[0;31mTypeError\u001b[0m: unsupported operand type(s) for ** or pow(): 'LpVariable' and 'int'"
     ]
    }
   ],
   "source": [
    "model = LpProblem(sense=LpMaximize)\n",
    "runes = pulp.LpVariable.dicts(\n",
    "    \"rune\", indices=range(RUNE_COUNT), cat=LpContinuous, lowBound=0.0, upBound=1.0\n",
    ").values()\n",
    "\n",
    "model += sum(sum(item * rune for item, rune in zip(items, runes)))\n",
    "\n",
    "# model += sum(stat * rune for stat, rune in zip(items[:, 0], runes)) >= 50\n",
    "# model += sum(stat * rune for stat, rune in zip(items[:, 1], runes)) >= 50\n",
    "\n",
    "model += sum(runes) <= 6"
   ]
  },
  {
   "cell_type": "code",
   "execution_count": null,
   "metadata": {},
   "outputs": [
    {
     "name": "stdout",
     "output_type": "stream",
     "text": [
      "Welcome to the CBC MILP Solver \n",
      "Version: 2.10.3 \n",
      "Build Date: Dec 15 2019 \n",
      "\n",
      "command line - /home/ventus/.local/lib/python3.11/site-packages/pulp/solverdir/cbc/linux/64/cbc /tmp/882e8e4a9c1d4773ac5978de136e8348-pulp.mps -max -timeMode elapsed -branch -printingOptions all -solution /tmp/882e8e4a9c1d4773ac5978de136e8348-pulp.sol (default strategy 1)\n",
      "At line 2 NAME          MODEL\n",
      "At line 3 ROWS\n",
      "At line 6 COLUMNS\n",
      "At line 2007 RHS\n",
      "At line 2009 BOUNDS\n",
      "At line 3010 ENDATA\n",
      "Problem MODEL has 1 rows, 1000 columns and 1000 elements\n",
      "Coin0008I MODEL read with 0 errors\n",
      "Option for timeMode changed from cpu to elapsed\n",
      "Presolve 1 (0) rows, 956 (-44) columns and 956 (-44) elements\n",
      "Perturbing problem by 0.001% of 75 - largest nonzero change 9.0416826e-06 ( 1.5585805e-05%) - largest zero change 0\n",
      "0  Obj -0 Dual inf 47811.994 (956)\n",
      "15  Obj 429.99996\n",
      "Optimal - objective value 430\n",
      "After Postsolve, objective 430, infeasibilities - dual 0 (0), primal 0 (0)\n",
      "Optimal objective 430 - 15 iterations time 0.002, Presolve 0.00\n",
      "Option for printingOptions changed from normal to all\n",
      "Total time (CPU seconds):       0.00   (Wallclock seconds):       0.00\n",
      "\n"
     ]
    },
    {
     "data": {
      "text/plain": [
       "1"
      ]
     },
     "execution_count": 253,
     "metadata": {},
     "output_type": "execute_result"
    }
   ],
   "source": [
    "# model.solve(pulp.PULP_CBC_CMD(msg=False))\n",
    "# model.solve(PULP_CBC_CMD(msg=1, options=[\"dualSimplex\"]))\n",
    "model.solve(PULP_CBC_CMD(msg=1))"
   ]
  },
  {
   "cell_type": "code",
   "execution_count": 266,
   "metadata": {},
   "outputs": [
    {
     "data": {
      "text/plain": [
       "[]"
      ]
     },
     "execution_count": 266,
     "metadata": {},
     "output_type": "execute_result"
    }
   ],
   "source": [
    "[rune.value() for rune in runes if rune.value()]"
   ]
  },
  {
   "cell_type": "code",
   "execution_count": 267,
   "metadata": {},
   "outputs": [
    {
     "ename": "TypeError",
     "evalue": "'>' not supported between instances of 'NoneType' and 'int'",
     "output_type": "error",
     "traceback": [
      "\u001b[0;31m---------------------------------------------------------------------------\u001b[0m",
      "\u001b[0;31mTypeError\u001b[0m                                 Traceback (most recent call last)",
      "Cell \u001b[0;32mIn[267], line 2\u001b[0m\n\u001b[1;32m      1\u001b[0m \u001b[38;5;28;01mfor\u001b[39;00m rune \u001b[38;5;129;01min\u001b[39;00m runes:\n\u001b[0;32m----> 2\u001b[0m     \u001b[38;5;28;01mif\u001b[39;00m \u001b[43mrune\u001b[49m\u001b[38;5;241;43m.\u001b[39;49m\u001b[43mvalue\u001b[49m\u001b[43m(\u001b[49m\u001b[43m)\u001b[49m\u001b[43m \u001b[49m\u001b[38;5;241;43m>\u001b[39;49m\u001b[43m \u001b[49m\u001b[38;5;241;43m0\u001b[39;49m:\n\u001b[1;32m      3\u001b[0m         \u001b[38;5;28mprint\u001b[39m(rune, rune\u001b[38;5;241m.\u001b[39mvalue())\n",
      "\u001b[0;31mTypeError\u001b[0m: '>' not supported between instances of 'NoneType' and 'int'"
     ]
    }
   ],
   "source": [
    "for rune in runes:\n",
    "    if rune.value() > 0:\n",
    "        print(rune, rune.value())"
   ]
  },
  {
   "cell_type": "code",
   "execution_count": null,
   "metadata": {},
   "outputs": [],
   "source": []
  }
 ],
 "metadata": {
  "kernelspec": {
   "display_name": "Python 3",
   "language": "python",
   "name": "python3"
  },
  "language_info": {
   "codemirror_mode": {
    "name": "ipython",
    "version": 3
   },
   "file_extension": ".py",
   "mimetype": "text/x-python",
   "name": "python",
   "nbconvert_exporter": "python",
   "pygments_lexer": "ipython3",
   "version": "3.11.8"
  }
 },
 "nbformat": 4,
 "nbformat_minor": 2
}
