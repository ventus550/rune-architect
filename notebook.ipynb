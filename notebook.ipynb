{
 "cells": [
  {
   "cell_type": "code",
   "execution_count": 1,
   "metadata": {},
   "outputs": [
    {
     "name": "stderr",
     "output_type": "stream",
     "text": [
      "qt.svg: Cannot open file '/home/ventus/Documents/summoners-war-optimizer/assets/icon_menu.svg', because: No such file or directory\n",
      "qt.svg: Cannot open file '/home/ventus/Documents/summoners-war-optimizer/assets/icon_menu.svg', because: No such file or directory\n",
      "qt.svg: Cannot open file '/home/ventus/Documents/summoners-war-optimizer/assets/icon_menu.svg', because: No such file or directory\n",
      "qt.svg: Cannot open file '/home/ventus/Documents/summoners-war-optimizer/assets/icon_menu.svg', because: No such file or directory\n",
      "qt.svg: Cannot open file '/home/ventus/Documents/summoners-war-optimizer/assets/icon_menu.svg', because: No such file or directory\n",
      "qt.svg: Cannot open file '/home/ventus/Documents/summoners-war-optimizer/assets/icon_menu.svg', because: No such file or directory\n",
      "qt.svg: Cannot open file '/home/ventus/Documents/summoners-war-optimizer/assets/icon_menu.svg', because: No such file or directory\n",
      "qt.svg: Cannot open file '/home/ventus/Documents/summoners-war-optimizer/assets/icon_menu.svg', because: No such file or directory\n"
     ]
    }
   ],
   "source": [
    "from gui.components import (\n",
    "\tApplicationWindow,\n",
    "\tContainer,\n",
    "\tTitleBar,\n",
    "\tDataFrame,\n",
    "\tButton,\n",
    "\tDropdown,\n",
    "    CheckBox,\n",
    "    QSizePolicy\n",
    ")\n",
    "from gui.components.alignment import *\n",
    "\n",
    "from gui.components.settings import theme, settings\n",
    "from itertools import product\n",
    "\n",
    "import pandas\n",
    "import numpy\n",
    "\n",
    "data = pandas.DataFrame(numpy.random.randint(0, 100, (12, 3)), columns=[\"Weight\", \"Min\", \"Max\"])\n",
    "items = [\"\".join(item) for item in product(\"abc\", repeat=5)]\n",
    "\n",
    "class Application(ApplicationWindow):\n",
    "    def __init__(self):\n",
    "        super().__init__(minw=800, minh=600, name=settings.app_name)\n",
    "        self.window: Container = Container(shadow=True, margin=10, spacing=10, bg_color=theme.bg_one)\n",
    "        self.addWidget(self.window)\n",
    "        \n",
    "        self.window[None] = TitleBar(self, height=50)\n",
    "\n",
    "        self.window[None] = self.container = Container(bg_color=theme.bg_two, cstretch=[0], rstretch=[2])\n",
    "\n",
    "        self.container[0, 0] = Button(height=50)\n",
    "        self.container[1, 0, 2, 1] = weights = DataFrame[AlignTop](data.T)\n",
    "        \n",
    "        self.container[0, 1] = self.environment = Container[AlignTop](cstretch=0, margin=4, spacing=10)\n",
    "        self.environment[0, 0] = Dropdown(width=200).addItems(items)\n",
    "        self.environment[0, 1] = checkbox = CheckBox(\"Equipped\")\n",
    "\n",
    "        self.container[1, 1] = self.dropdowns = Container[AlignTop](margin=5, spacing=4)\n",
    "        self.dropdowns[None] = Dropdown().addItems(items)\n",
    "        self.dropdowns[None] = Dropdown().addItems(items)\n",
    "        self.dropdowns[None] = Dropdown().addItems(items)\n",
    "        \n",
    "        self.container[2, 0, 1, 2] = results = DataFrame(data)\n",
    "        results.setSizePolicy(QSizePolicy.Policy.MinimumExpanding, QSizePolicy.Policy.MinimumExpanding)\n",
    "\n",
    "\n",
    "Application().exec()"
   ]
  },
  {
   "cell_type": "code",
   "execution_count": null,
   "metadata": {},
   "outputs": [],
   "source": []
  },
  {
   "cell_type": "code",
   "execution_count": null,
   "metadata": {},
   "outputs": [],
   "source": []
  }
 ],
 "metadata": {
  "kernelspec": {
   "display_name": "Python 3",
   "language": "python",
   "name": "python3"
  },
  "language_info": {
   "codemirror_mode": {
    "name": "ipython",
    "version": 3
   },
   "file_extension": ".py",
   "mimetype": "text/x-python",
   "name": "python",
   "nbconvert_exporter": "python",
   "pygments_lexer": "ipython3",
   "version": "3.12.3"
  }
 },
 "nbformat": 4,
 "nbformat_minor": 2
}
