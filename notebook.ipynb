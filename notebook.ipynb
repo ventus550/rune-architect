{
 "cells": [
  {
   "cell_type": "code",
   "execution_count": 3,
   "metadata": {},
   "outputs": [],
   "source": [
    "from components import (\n",
    "\tApplicationWindow,\n",
    "\tContainer,\n",
    "\tTitleBar,\n",
    "\tQHBoxLayout,\n",
    "\tDataFrame,\n",
    "\tButton,\n",
    "\tDropdown,\n",
    "\tQVBoxLayout,\n",
    "    QCheckBox,\n",
    "    AlignmentFlag\n",
    ")\n",
    "\n",
    "from components.settings import theme, settings\n",
    "\n",
    "import pandas\n",
    "import numpy\n",
    "\n",
    "data = pandas.DataFrame(numpy.random.randint(0, 100, (10, 3)), columns=[\"Weight\", \"Min\", \"Max\"])\n",
    "\n",
    "\n",
    "class Application(ApplicationWindow):\n",
    "    def __init__(self):\n",
    "        super().__init__(minw=800, minh=600, name=settings.app_name)\n",
    "        self.window: Container = Container(shadow=True, margin=10, spacing=10, bg_color=theme.bg_one)\n",
    "        self.addWidget(self.window)\n",
    "        \n",
    "\n",
    "        self.window.addWidget(TitleBar(\n",
    "            self, height=50\n",
    "        ))\n",
    "        # , 0, 0, alignment = Qt.AlignmentFlag.AlignTop)\n",
    "\n",
    "\n",
    "        self.window[None] = self.container = Container(bg_color=theme.bg_two, cstretch=[0, 1], rstretch=1)\n",
    "\n",
    "        self.container[0, 0, 3, 1] = DataFrame(data) \n",
    "        self.container[0, 1] = Button(height=50)\n",
    "\n",
    "        self.container[1, 1] = self.dropdowns = Container[AlignmentFlag.AlignTop]()\n",
    "        self.dropdowns[None] = Dropdown().addItems([\"ad\", \"abccd\", \"cdfsfsf\"]*50)\n",
    "        self.dropdowns[None] = Dropdown().addItems([\"ad\", \"abccd\", \"cdfsfsf\"]*50)\n",
    "        self.dropdowns[None] = Dropdown().addItems([\"ad\", \"abccd\", \"cdfsfsf\"]*50)\n",
    "        \n",
    "        self.container[2, 1] = self.environment = Container[AlignmentFlag.AlignTop](cstretch=0)\n",
    "        self.environment[0, 0] = Dropdown().addItems([\"ad\", \"abccd\", \"cdfsfsf\"]*50)\n",
    "        self.environment[0, 1] = QCheckBox(\"Equipped\")\n",
    "    \n",
    "        self.container[3, 0, 1, 2] = DataFrame(data)\n",
    "\n",
    "\n",
    "Application().exec()"
   ]
  },
  {
   "cell_type": "code",
   "execution_count": null,
   "metadata": {},
   "outputs": [],
   "source": []
  }
 ],
 "metadata": {
  "kernelspec": {
   "display_name": "Python 3",
   "language": "python",
   "name": "python3"
  },
  "language_info": {
   "codemirror_mode": {
    "name": "ipython",
    "version": 3
   },
   "file_extension": ".py",
   "mimetype": "text/x-python",
   "name": "python",
   "nbconvert_exporter": "python",
   "pygments_lexer": "ipython3",
   "version": "3.12.3"
  }
 },
 "nbformat": 4,
 "nbformat_minor": 2
}
